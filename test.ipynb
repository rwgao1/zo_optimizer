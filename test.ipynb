{
 "cells": [
  {
   "cell_type": "code",
   "execution_count": 1,
   "id": "7d72f19d",
   "metadata": {},
   "outputs": [
    {
     "name": "stdout",
     "output_type": "stream",
     "text": [
      "env: PYTORCH_ENABLE_MPS_FALLBACK=1\n"
     ]
    }
   ],
   "source": [
    "%load_ext autoreload\n",
    "%autoreload 2\n",
    "\n",
    "%env PYTORCH_ENABLE_MPS_FALLBACK=1"
   ]
  },
  {
   "cell_type": "code",
   "execution_count": 2,
   "id": "25800dd8",
   "metadata": {},
   "outputs": [],
   "source": [
    "import torch\n",
    "import torch.nn as nn\n",
    "import torch.nn.functional as F\n",
    "import torch.optim as optim\n",
    "\n",
    "import ssl\n",
    "ssl._create_default_https_context = ssl._create_unverified_context\n",
    "\n",
    "\n",
    "from zo_optimizer import ZOOptimizer\n",
    "from meZO.meZO import meZOOptimizer\n",
    "from meZO.me_linear import meLinear\n",
    "\n",
    "# MNIST dataset\n",
    "from torchvision import datasets, transforms"
   ]
  },
  {
   "cell_type": "code",
   "execution_count": 3,
   "id": "26cf33b2",
   "metadata": {},
   "outputs": [],
   "source": [
    "class Net(nn.Module):\n",
    "    def __init__(self):\n",
    "        super(Net, self).__init__()\n",
    "        self.fc1 = nn.Linear(28 * 28, 128)\n",
    "        self.fc2 = nn.Linear(128, 10)\n",
    "\n",
    "    def forward(self, x):\n",
    "        x = x.view(-1, 28 * 28)\n",
    "        x = F.relu(self.fc1(x))\n",
    "        x = self.fc2(x)\n",
    "        return x\n",
    "    \n",
    "    \n",
    "def compute_loss(model, data, target):\n",
    "    output = model(data)\n",
    "    loss = F.cross_entropy(output, target)\n",
    "    return loss\n",
    "\n",
    "\n",
    "class meNet(nn.Module):\n",
    "    def __init__(self, k):\n",
    "        super(meNet, self).__init__()\n",
    "        self.fc1 = meLinear(28 * 28, 128, k, unified=True)\n",
    "        self.fc2 = meLinear(128, 10, k, unified=True)\n",
    "    def forward(self, x):\n",
    "        x = x.view(-1, 28 * 28)\n",
    "        x = F.relu(self.fc1(x))\n",
    "        x = self.fc2(x)\n",
    "        return x\n"
   ]
  },
  {
   "cell_type": "code",
   "execution_count": null,
   "id": "32e5fd42",
   "metadata": {},
   "outputs": [
    {
     "name": "stderr",
     "output_type": "stream",
     "text": [
      "/Users/rwgao/projects/zo_optimizer/meZO/me_linear.py:31: UserWarning: This overload of addmm_ is deprecated:\n",
      "\taddmm_(Number beta, Number alpha, Tensor mat1, Tensor mat2)\n",
      "Consider using one of the following signatures instead:\n",
      "\taddmm_(Tensor mat1, Tensor mat2, *, Number beta = 1, Number alpha = 1) (Triggered internally at /Users/runner/work/pytorch/pytorch/pytorch/torch/csrc/utils/python_arg_parser.cpp:1691.)\n",
      "  y.addmm_(0, 1, x, w)\n",
      "/Users/rwgao/projects/zo_optimizer/meZO/me_linear.py:53: UserWarning: The operator 'aten::index_copy.out' is not currently supported on the MPS backend and will fall back to run on the CPU. This may have performance implications. (Triggered internally at /Users/runner/work/pytorch/pytorch/pytorch/aten/src/ATen/mps/MPSFallback.mm:14.)\n",
      "  dw = w.new(w.size()).zero_().index_copy_(\n"
     ]
    },
    {
     "name": "stdout",
     "output_type": "stream",
     "text": [
      "Epoch 0, Batch 0, Loss: 2.6105737686157227\n",
      "Epoch 0, Batch 100, Loss: 1.8616704940795898\n",
      "Epoch 0, Batch 200, Loss: 1.4142858982086182\n",
      "Epoch 0, Batch 300, Loss: 1.0962026119232178\n",
      "Epoch 0, Batch 400, Loss: 1.0815811157226562\n",
      "Epoch 0, Batch 500, Loss: 0.666472315788269\n",
      "Epoch 0, Batch 600, Loss: 0.6574393510818481\n",
      "Epoch 0, Batch 700, Loss: 0.5869513750076294\n",
      "Epoch 0, Batch 800, Loss: 0.508173942565918\n",
      "Epoch 0, Batch 900, Loss: 0.6118425726890564\n",
      "Epoch 1, Batch 0, Loss: 0.4156755208969116\n",
      "Epoch 1, Batch 100, Loss: 0.4802614748477936\n",
      "Epoch 1, Batch 200, Loss: 0.34843164682388306\n"
     ]
    }
   ],
   "source": [
    "train_dataset = datasets.MNIST(\n",
    "    root='./data', train=True, download=True\n",
    "    , transform=transforms.ToTensor()\n",
    ")\n",
    "from torch.utils.data import DataLoader\n",
    "train_loader = DataLoader(\n",
    "    train_dataset, batch_size=64, shuffle=True\n",
    ")\n",
    "\n",
    "device = \"mps\"\n",
    "num_epochs = 5\n",
    "# k = 1000\n",
    "q = 200\n",
    "mu = 0.001\n",
    "\n",
    "\n",
    "\n",
    "\n",
    "trials = 10\n",
    "k_losses = []\n",
    "for k in [10, 20, 40, 80, 160, 320, 640, 1280, 2560]:\n",
    "    losses_trials = []\n",
    "    for i in range(trials):\n",
    "        model = meNet(k).to(device)\n",
    "        model.train()\n",
    "        zo = meZOOptimizer(model, compute_loss, q, mu)\n",
    "        optimizer = optim.Adam(model.parameters(), lr=0.001)\n",
    "        losses = []\n",
    "        for epoch in range(num_epochs):\n",
    "            for batch_idx, (data, target) in enumerate(train_loader):\n",
    "                data, target = data.to(device), target.to(device)\n",
    "                optimizer.zero_grad()\n",
    "                loss = zo.loss_and_grad(model, data, target)\n",
    "\n",
    "                optimizer.step()\n",
    "\n",
    "                losses.append(loss.item())\n",
    "\n",
    "                if batch_idx % 100 == 0:\n",
    "                    print(f'Epoch {epoch}, Batch {batch_idx}, Loss: {loss.item()}')\n",
    "\n",
    "        losses_trials.append(losses)\n",
    "        print(f\"Trial {i+1}/{trials} completed.\")\n",
    "    k_losses.append(losses_trials)"
   ]
  },
  {
   "cell_type": "code",
   "execution_count": null,
   "id": "2c2dd194",
   "metadata": {},
   "outputs": [
    {
     "data": {
      "image/png": "[encoded data removed]",
      "text/plain": [
       "<Figure size 640x480 with 1 Axes>"
      ]
     },
     "metadata": {},
     "output_type": "display_data"
    }
   ],
   "source": [
    "# Display loss curve\n",
    "\n",
    "import matplotlib.pyplot as plt\n",
    "plt.plot(losses)\n",
    "plt.xlabel('Batch')\n",
    "plt.ylabel('Loss')\n",
    "plt.title('Loss Curve')\n",
    "plt.show()\n"
   ]
  }
 ],
 "metadata": {
  "kernelspec": {
   "display_name": "Python 3",
   "language": "python",
   "name": "python3"
  },
  "language_info": {
   "codemirror_mode": {
    "name": "ipython",
    "version": 3
   },
   "file_extension": ".py",
   "mimetype": "text/x-python",
   "name": "python",
   "nbconvert_exporter": "python",
   "pygments_lexer": "ipython3",
   "version": "3.11.9"
  }
 },
 "nbformat": 4,
 "nbformat_minor": 5
}
